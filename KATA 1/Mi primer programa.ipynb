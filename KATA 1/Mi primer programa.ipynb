{
 "cells": [
  {
   "cell_type": "code",
   "execution_count": null,
   "metadata": {},
   "outputs": [],
   "source": []
  },
  {
   "cell_type": "markdown",
   "metadata": {},
   "source": [
    "## MI PRIMER PROGRAMA\n",
    "PARA CREAR ESTE PROGRAMA, DEBERÁS UTILIZAR LOS CONCEPTOS QUE APRENDISTE EN EL ULTIMO MODULO. USARAS JUPYTER NOTEBOOK EN ESTE EJERCICIO, QUE ES UNA COMBINACION DE TEXTO Y CODIGO CON LA QUE PUEDE INTERACTUAR. FINALIZA EL CÓDIGO SIGUIENTE PARA QUE EL RESULTADO MUESTRE LA FECHA DE HOY. "
   ]
  },
  {
   "cell_type": "code",
   "execution_count": 3,
   "metadata": {},
   "outputs": [
    {
     "name": "stdout",
     "output_type": "stream",
     "text": [
      "Toda's date is: 2022-02-06\n"
     ]
    }
   ],
   "source": [
    "from datetime import date\n",
    "\n",
    "print(\"Toda's date is: \" + str(date.today()))"
   ]
  },
  {
   "cell_type": "markdown",
   "metadata": {},
   "source": [
    "## Construir un convertidor de unidades\n",
    "El oficial superior> \"Necesito una cosa más: un programa que conversión entre parsecs y años luz. Tener un programa de este tipo podria ser realmente util en el puente para trazar nuestro curso\". "
   ]
  },
  {
   "cell_type": "code",
   "execution_count": 5,
   "metadata": {},
   "outputs": [
    {
     "name": "stdout",
     "output_type": "stream",
     "text": [
      "11parsec. is  35.877159999999996 lightyears\n"
     ]
    }
   ],
   "source": [
    "parsec = 11\n",
    "\n",
    "parsec_total= 3.26156\n",
    "\n",
    "lightyears= parsec * parsec_total\n",
    "\n",
    "print(str(parsec) + \"parsec. is  \" + str(lightyears) + \" lightyears\")"
   ]
  }
 ],
 "metadata": {
  "interpreter": {
   "hash": "c569cd2e17f62341e0f08a54f9a867c3c0d3a6f67454072d7de41a8b5dff8343"
  },
  "kernelspec": {
   "display_name": "Python 3.9.5 64-bit",
   "language": "python",
   "name": "python3"
  },
  "language_info": {
   "codemirror_mode": {
    "name": "ipython",
    "version": 3
   },
   "file_extension": ".py",
   "mimetype": "text/x-python",
   "name": "python",
   "nbconvert_exporter": "python",
   "pygments_lexer": "ipython3",
   "version": "3.9.5"
  },
  "orig_nbformat": 4
 },
 "nbformat": 4,
 "nbformat_minor": 2
}

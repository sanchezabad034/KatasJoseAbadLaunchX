{
 "cells": [
  {
   "cell_type": "code",
   "execution_count": null,
   "metadata": {},
   "outputs": [],
   "source": [
    "## EJERCICIO 1: transformar cadenas "
   ]
  },
  {
   "cell_type": "code",
   "execution_count": 1,
   "metadata": {},
   "outputs": [
    {
     "name": "stdout",
     "output_type": "stream",
     "text": [
      "INTERESTING FACT ABOUT MOON.THE MOON IS EART'S ONLY SATELLITE.THERE ARE SEVERAL INTERESTING FACTS ABOUT THE MOON AND HOW IT A ON AVERAGE, THE MOON MOVES 4 CM AWAY FROM THE EARTH EVERY YEAR.THIS YEARLY DRIFT IS NOT SIGNIFICANT ENOUGH TO CAUSE INMEDIATE EFECTS ON EARTH.\n",
      "INTERESTING FACT ABOUT MOON.THE MOON IS EART'S ONLY SATELLITE.THERE ARE SEVERAL INTERESTING FACTS ABOUT THE MOON AND HOW IT A ON AVERAGE, THE MOON MOVES 4CELSIUSM AWAY FROM THE EARTH EVERY YEAR.THIS YEARLY DRIFT IS NOT SIGNIFICANT ENOUGH TOCELSIUSAUSE INMEDIATE EFECTS ON EARTH.\n"
     ]
    }
   ],
   "source": [
    "text = \"\"\"INTERESTING FACT ABOUT MOON.THE MOON IS EART'S ONLY SATELLITE.THERE ARE SEVERAL INTERESTING FACTS ABOUT THE MOON AND HOW IT A ON AVERAGE, THE MOON MOVES 4 CM AWAY FROM THE EARTH EVERY YEAR.THIS YEARLY DRIFT IS NOT SIGNIFICANT ENOUGH TO CAUSE INMEDIATE EFECTS ON EARTH.\"\"\"\n",
    "#Se divide el texto en cada oracion para trabajar con su contenido: \n",
    "texto= text.split('. ')\n",
    "texto\n",
    "#Se definen algunas palabras claves. \n",
    "Palabras_claves= [\"TEMPERATURE\", \"INTERESTING\", \"MOON\"]\n",
    "#Se define un ciclo para recorrer la cadena de caracteres y buscar las palabras claves.\n",
    "for oraciones in texto:#se cra un ciclo for  \n",
    "    for busqueda in Palabras_claves:\n",
    "        if busqueda in oraciones: \n",
    "            print(oraciones)\n",
    "            break\n",
    "#ciclo para cambiar de grados C a celsius \n",
    "for oraciones in texto:#se cra un ciclo for  \n",
    "    for busqueda in Palabras_claves:\n",
    "        if busqueda in oraciones: \n",
    "            print(oraciones.replace(' C', ' CELSIUS'))\n",
    "            break"
   ]
  },
  {
   "cell_type": "markdown",
   "metadata": {},
   "source": [
    "## EJERCICIO 2"
   ]
  },
  {
   "cell_type": "code",
   "execution_count": 3,
   "metadata": {},
   "outputs": [
    {
     "name": "stdout",
     "output_type": "stream",
     "text": [
      " --------------------------------------------------------------------------------\n",
      "nombreplaneta: MARTE\n",
      "gravedad GANIMEDES : 1.4300000000000002 M/S2\n",
      "\n"
     ]
    }
   ],
   "source": [
    "#VARIABLES\n",
    "PLANETA = 'MARTE'\n",
    "GRAVEDAD= 0.00143\n",
    "NOMBRE = 'GANIMEDES'\n",
    "\n",
    "#CREACION DEL TITULO\n",
    "title = 'datos de gravedad {nombre}'\n",
    "\n",
    "#creacion de la plantilla\n",
    "hechos =f\"\"\" {'-' * 80}\n",
    "nombreplaneta: {PLANETA}\n",
    "gravedad {NOMBRE} : {GRAVEDAD * 1000} M/S2\n",
    "\"\"\"\n",
    "#union \n",
    "union = f\"\"\"{title.title()}\n",
    "{hechos}\"\"\"\n",
    "\n",
    "print(hechos)"
   ]
  }
 ],
 "metadata": {
  "interpreter": {
   "hash": "c569cd2e17f62341e0f08a54f9a867c3c0d3a6f67454072d7de41a8b5dff8343"
  },
  "kernelspec": {
   "display_name": "Python 3.9.5 64-bit",
   "language": "python",
   "name": "python3"
  },
  "language_info": {
   "codemirror_mode": {
    "name": "ipython",
    "version": 3
   },
   "file_extension": ".py",
   "mimetype": "text/x-python",
   "name": "python",
   "nbconvert_exporter": "python",
   "pygments_lexer": "ipython3",
   "version": "3.9.5"
  },
  "orig_nbformat": 4
 },
 "nbformat": 4,
 "nbformat_minor": 2
}

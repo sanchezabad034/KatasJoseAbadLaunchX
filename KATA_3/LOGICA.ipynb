{
 "cells": [
  {
   "cell_type": "code",
   "execution_count": null,
   "metadata": {},
   "outputs": [],
   "source": []
  },
  {
   "cell_type": "markdown",
   "metadata": {},
   "source": [
    "## EJERCICIO - ESCRIBIR DECLARACIONES IF, ELSE, Y ELIF"
   ]
  },
  {
   "cell_type": "code",
   "execution_count": null,
   "metadata": {},
   "outputs": [],
   "source": [
    "#if expresion_prueba: \n",
    "    #instrucción(es) a ejecutar\n",
    "    #if expresion_prueba: \n",
    "    #instrucción(es) a ejecutar\n",
    "    #else: \n",
    "    #instrucción(es) a ejecutar\n",
    "#elif expresion_prueba: \n",
    "    #instrucción(es) a ejecutar\n",
    "#else: \n",
    "    #instrucción(es) a ejecutar"
   ]
  },
  {
   "cell_type": "markdown",
   "metadata": {},
   "source": [
    "Para este ejercicio, escribirás una lógica condicional que imprima una advertencia si un asteroide se acerca a la Tierra demasiado rápido. La velocidad del asteroide varía dependiendo de lo cerca que esté del sol, y cualquier velocidad superior a 25 kilómetros por segundo (km/s) merece una advertencia.\n",
    "\n",
    "Un asteroide se acerca, y viaja a una velocidad de 49 km/s."
   ]
  },
  {
   "cell_type": "code",
   "execution_count": null,
   "metadata": {},
   "outputs": [],
   "source": [
    "Velocidad_asteroide= 49\n",
    "\n",
    "if(Velocidad_asteroide> 25): \n",
    "    print(\"MANDANDO ADVERTENCIA ASTEROIDE DEMASIADO RAPIDO\")\n",
    "\n",
    "else: \n",
    "    print(\"SIN SEÑAL DE ALERTA\")"
   ]
  },
  {
   "cell_type": "markdown",
   "metadata": {},
   "source": [
    "Si un asteroide entra en la atmósfera de la Tierra a una velocidad mayor o igual a 20 km/s, a veces produce un rayo de luz que se puede ver desde la Tierra. Escribe la lógica condicional que usa declaraciones if, else, y elif para alertar a las personas de todo el mundo que deben buscar un asteroide en el cielo. ¡Hay uno que se dirige a la tierra ahora a una velocidad de 19 km/s!"
   ]
  },
  {
   "cell_type": "code",
   "execution_count": 4,
   "metadata": {},
   "outputs": [
    {
     "name": "stdout",
     "output_type": "stream",
     "text": [
      "ALERTA BUSQUEN UN ASTEROIDE EN EL CIELO\n"
     ]
    }
   ],
   "source": [
    "Velocidad_asteroide= 19\n",
    "\n",
    "if(Velocidad_asteroide>=20):\n",
    "    print(\"ALERTA BUSQUEN UN ASTEROIDE EN EL CIELO\")\n",
    "\n",
    "elif(Velocidad_asteroide==19):\n",
    "    print(\"Asteroide a punto de alcanzar la velocidad de alerta\")\n",
    "\n",
    "else:\n",
    "    print(\"Sin señal de asteroides\")"
   ]
  },
  {
   "cell_type": "markdown",
   "metadata": {},
   "source": [
    "Ejercicio: Uso de operadores and y or"
   ]
  },
  {
   "cell_type": "code",
   "execution_count": null,
   "metadata": {},
   "outputs": [],
   "source": [
    "Tamano_asteroides= 25\n",
    "Velocidad_asteroide= 20\n",
    "\n",
    "if Velocidad_asteroide > 25 and Tamano_asteroides>25: \n",
    "    print(\"Asteroide en el cielo\")\n",
    "elif Velocidad_asteroide>=20:\n",
    "    print(\"Asteroide en el cieloo\")\n",
    "\n",
    "elif Tamano_asteroides<25:\n",
    "    print(\"Sin señales de asteroides\")\n",
    "else: \n",
    "    print(\"Todo tranqulo\")"
   ]
  }
 ],
 "metadata": {
  "interpreter": {
   "hash": "c569cd2e17f62341e0f08a54f9a867c3c0d3a6f67454072d7de41a8b5dff8343"
  },
  "kernelspec": {
   "display_name": "Python 3.9.5 64-bit",
   "language": "python",
   "name": "python3"
  },
  "language_info": {
   "codemirror_mode": {
    "name": "ipython",
    "version": 3
   },
   "file_extension": ".py",
   "mimetype": "text/x-python",
   "name": "python",
   "nbconvert_exporter": "python",
   "pygments_lexer": "ipython3",
   "version": "3.9.5"
  },
  "orig_nbformat": 4
 },
 "nbformat": 4,
 "nbformat_minor": 2
}

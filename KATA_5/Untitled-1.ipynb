{
 "cells": [
  {
   "cell_type": "markdown",
   "metadata": {},
   "source": [
    "## EXPLORAR LA DISTANCIA QUE HAY DE LA TIERRA A JUPITER"
   ]
  },
  {
   "cell_type": "code",
   "execution_count": 1,
   "metadata": {},
   "outputs": [
    {
     "name": "stdout",
     "output_type": "stream",
     "text": [
      "628949330\n"
     ]
    }
   ],
   "source": [
    "Tierra= 149597870\n",
    "Jupiter = 778547200\n",
    "Distancia = Jupiter-Tierra\n",
    "\n",
    "print( Distancia)"
   ]
  },
  {
   "cell_type": "markdown",
   "metadata": {},
   "source": [
    "## Ejercicio 2: convierte cadenas en números y usa valores absolutos\n",
    "Crear una aplicación para trabajar con números y entrada de usuario"
   ]
  },
  {
   "cell_type": "code",
   "execution_count": null,
   "metadata": {},
   "outputs": [],
   "source": [
    "Planeta_1= input('¿A que distanicia esta el primer planeta del sol?')\n",
    "Planeta_2= input('¿A que distancia esta del sol el segundo planeta?')\n",
    "\n",
    "Planeta_1 = int(Planeta_1)\n",
    "Planeta_2= int(Planeta_2)\n",
    "\n",
    "#Convertidor de millas\n",
    "Metros_distancia= Planeta_2-Planeta_1\n",
    "print(Metros_distancia)\n",
    "\n",
    "Millas= Metros_distancia*0.621\n",
    "print(abs(Millas))"
   ]
  }
 ],
 "metadata": {
  "interpreter": {
   "hash": "c569cd2e17f62341e0f08a54f9a867c3c0d3a6f67454072d7de41a8b5dff8343"
  },
  "kernelspec": {
   "display_name": "Python 3.9.5 64-bit",
   "language": "python",
   "name": "python3"
  },
  "language_info": {
   "codemirror_mode": {
    "name": "ipython",
    "version": 3
   },
   "file_extension": ".py",
   "mimetype": "text/x-python",
   "name": "python",
   "nbconvert_exporter": "python",
   "pygments_lexer": "ipython3",
   "version": "3.9.5"
  },
  "orig_nbformat": 4
 },
 "nbformat": 4,
 "nbformat_minor": 2
}

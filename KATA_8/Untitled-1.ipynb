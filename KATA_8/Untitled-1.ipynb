{
 "cells": [
  {
   "cell_type": "markdown",
   "metadata": {},
   "source": [
    "## Creación de diccionarios de Python"
   ]
  },
  {
   "cell_type": "code",
   "execution_count": null,
   "metadata": {},
   "outputs": [],
   "source": [
    "Planeta = {\n",
    "    'nombre': 'Mars', \n",
    "    'Moons': 2 \n",
    "}\n",
    "print(f'{Planeta[\"name\"]} has {Planeta[\"moons\"]} moons')\n",
    "\n",
    "Planeta['circunferencia '] = {\n",
    "    'polar': 6752, \n",
    "    'equatorial': 6792\n",
    "}\n",
    "\n",
    "print(f'{Planeta[\"name\"]} tiene una circunferencia {Planeta[\"circunferencia\"] [\"polar\"]}')"
   ]
  },
  {
   "cell_type": "markdown",
   "metadata": {},
   "source": [
    "## Ejercicio 2"
   ]
  },
  {
   "cell_type": "code",
   "execution_count": null,
   "metadata": {},
   "outputs": [],
   "source": [
    "Moons = Planeta.values()\n",
    "Planeta = len(Planeta.keys())\n",
    "total_moons = 0\n",
    "for Moon in Moons:\n",
    "    total_moons = total_moons + Moon\n",
    "average = total_moons / Planeta\n",
    "print(average)\n"
   ]
  }
 ],
 "metadata": {
  "interpreter": {
   "hash": "c569cd2e17f62341e0f08a54f9a867c3c0d3a6f67454072d7de41a8b5dff8343"
  },
  "kernelspec": {
   "display_name": "Python 3.9.5 64-bit",
   "language": "python",
   "name": "python3"
  },
  "language_info": {
   "name": "python",
   "version": "3.9.5"
  },
  "orig_nbformat": 4
 },
 "nbformat": 4,
 "nbformat_minor": 2
}
